{
 "cells": [
  {
   "cell_type": "markdown",
   "metadata": {},
   "source": [
    "* Data source:\n",
    "\n",
    "    [1] [koronvirus.hr](https://www.koronavirus.hr/) - official site of the Government of the Republic of Croatia for timely and accurate information on COVID-19\n",
    "\n",
    "---\n",
    "\n",
    "* References for simple log, logit and linear epidemics modeling:\n",
    "\n",
    "    [1] [Exponential growth and epidemics](https://www.youtube.com/watch?v=Kas0tIxDvrg) - 3blue1brown YouTube video\n",
    "\n",
    "---\n",
    "\n",
    "*  References for modeling of Covid-19 by observing logplot of new cases v. smoothed confirmed cases:\n",
    "\n",
    "    [1] [How To Tell If We're Beating COVID-19](https://www.youtube.com/watch?v=54XLXg4fYsc) - minutephysics YouTube video\n",
    "\n",
    "---\n",
    "\n",
    "* References for Gaussian processes:\n",
    "    \n",
    "    [1] [A Visual Exploration of Gaussian Processes](https://distill.pub/2019/visual-exploration-gaussian-processes/) - distil.pub blog post based on [2]\n",
    "\n",
    "    [2] [Gaussian Processes in Machine Learning](https://link.springer.com/chapter/10.1007%2F978-3-540-28650-9_4) - 2003. Carl Edward Rasmussen's primer on Gaussian Processes\n",
    "\n",
    "    [3] [Gaussian Processes - A Replacement for Supervised Neural Networks?](https://scholar.google.com/scholar?q=MacKay%2C%20D.J.C.%3A%20Gaussian%20processes%20%E2%80%94%20a%20replacement%20for%20supervised%20neural%20networks%3F.%20Tutorial%20lecture%20notes%20for%20NIPS%201997%20%281997%29) - 1997. D. MacKay's paper\n",
    "    \n",
    "    [4] hands-on blog posts: https://blog.dominodatalab.com/fitting-gaussian-process-models-python/\n",
    "\n",
    "---\n",
    "\n",
    "* References for SIR:\n",
    "    \n",
    "    [1] [Introduction to SEIR Models - Swiss TPH](http://indico.ictp.it/event/7960/session/3/#20170508) - 2017. Nakul Chitnis' presentation on SEIR Model\n",
    "    \n",
    "    [2] [Mathematical Theory of Epidemics I](https://link.springer.com/article/10.1007/BF02464423) - 1927. W. O. Kermack & A. G. McKendrick - I. \n",
    "    \n",
    "    [3] [Mathematical Theory of Epidemics II - The Problem of Endemicity](https://www.sciencedirect.com/science/article/abs/pii/S0092824005800412) - 1927. W. O. Kermack & A. G. McKendrick - II. \n",
    "    \n",
    "    [4] [Mathematical Theory of Epidemics III - Further Studies of the Problem of Endemicity](https://www.sciencedirect.com/science/article/abs/pii/S0092824005800424) - 1927. W. O. Kermack & A. G. McKendrick - III.\n",
    "    \n",
    "    [5] [Measurement and Modeling - Infectious Disease Modeling](https://www.sciencedirect.com/science/article/pii/B9780128036785002290?via%3Dihub) - 2016. Mirjam Kretzschmar's Measurement and Modeling: Infectious Disease Modeling chapter in International Encyclopedia of Public Health\n",
    "     \n",
    "    [6] [Modeling the epidemic dynamics and control of COVID-19 outbreak in China](https://link.springer.com/article/10.1007%2Fs40484-020-0199-0) - 2020. paper by Shilei Zhao & Hua Chen\n",
    "    \n",
    "    [7] [Neural Network Aided Quarantine Control Model Estimation of COVID Spread in Wuhan, China](https://arxiv.org/abs/2003.09403v1) - 2020. paper by Raj Dandekar & George Barbastathis. Here the [Universal Differential Equations](https://arxiv.org/abs/2001.04385) are used in order to estimate the effects of quarantine and understand their effect on the spread of COVID-19."
   ]
  },
  {
   "cell_type": "code",
   "execution_count": null,
   "metadata": {},
   "outputs": [],
   "source": []
  }
 ],
 "metadata": {
  "kernelspec": {
   "display_name": "Python 3",
   "language": "python",
   "name": "python3"
  },
  "language_info": {
   "codemirror_mode": {
    "name": "ipython",
    "version": 3
   },
   "file_extension": ".py",
   "mimetype": "text/x-python",
   "name": "python",
   "nbconvert_exporter": "python",
   "pygments_lexer": "ipython3",
   "version": "3.7.4"
  }
 },
 "nbformat": 4,
 "nbformat_minor": 2
}
