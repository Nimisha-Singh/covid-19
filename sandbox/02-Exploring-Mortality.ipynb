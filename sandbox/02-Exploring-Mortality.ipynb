{
 "cells": [
  {
   "cell_type": "code",
   "execution_count": 1,
   "metadata": {},
   "outputs": [],
   "source": [
    "import datetime as dt\n",
    "\n",
    "import numpy as np\n",
    "import matplotlib.pyplot as plt \n",
    "import matplotlib.dates as mdates\n",
    "import pandas as pd"
   ]
  },
  {
   "cell_type": "code",
   "execution_count": 2,
   "metadata": {},
   "outputs": [
    {
     "name": "stdout",
     "output_type": "stream",
     "text": [
      "          date  confirmed_cases  recovered_cases  death_cases\n",
      "0   2020-02-26              1.0              0.0          0.0\n",
      "1   2020-02-27              3.0              0.0          0.0\n",
      "2   2020-02-28              3.0              0.0          0.0\n",
      "3   2020-02-29              5.0              0.0          0.0\n",
      "4   2020-03-01              6.0              0.0          0.0\n",
      "..         ...              ...              ...          ...\n",
      "169 2020-08-13           5870.0           5024.0        160.0\n",
      "170 2020-08-14           6050.0           5078.0        161.0\n",
      "171 2020-08-15           6258.0           5134.0        163.0\n",
      "172 2020-08-16           6420.0           5193.0        165.0\n",
      "173 2020-08-17           6571.0           5220.0        166.0\n",
      "\n",
      "[174 rows x 4 columns]\n"
     ]
    }
   ],
   "source": [
    "# data\n",
    "confirmed_cases = np.loadtxt('../data/confirmed_cases.dat')\n",
    "recovered_cases = np.loadtxt('../data/recovered_cases.dat')\n",
    "death_cases = np.loadtxt('../data/death_cases.dat')\n",
    "\n",
    "epidemics_start_date = dt.datetime(2020, 2, 26)\n",
    "date_list = [epidemics_start_date + dt.timedelta(days=i) for i in range(confirmed_cases.size)]\n",
    "\n",
    "# dataframe\n",
    "df = pd.DataFrame({\n",
    "    'date': date_list,\n",
    "    'confirmed_cases': confirmed_cases,\n",
    "    'recovered_cases': recovered_cases,\n",
    "    'death_cases': death_cases,\n",
    "})\n",
    "print(df)"
   ]
  },
  {
   "cell_type": "code",
   "execution_count": 3,
   "metadata": {},
   "outputs": [
    {
     "data": {
      "image/png": "[encoded data removed]",
      "text/plain": [
       "<Figure size 432x288 with 1 Axes>"
      ]
     },
     "metadata": {
      "needs_background": "light"
     },
     "output_type": "display_data"
    }
   ],
   "source": [
    "plt.plot(np.diff(df.confirmed_cases)[:-22], np.diff(df.death_cases)[22:], 'bo')\n",
    "plt.xlabel('New cases daily')\n",
    "plt.ylabel('New deaths daily (22 days delay)')\n",
    "plt.grid()\n",
    "plt.show()"
   ]
  },
  {
   "cell_type": "code",
   "execution_count": null,
   "metadata": {},
   "outputs": [],
   "source": []
  }
 ],
 "metadata": {
  "kernelspec": {
   "display_name": "Python 3",
   "language": "python",
   "name": "python3"
  },
  "language_info": {
   "codemirror_mode": {
    "name": "ipython",
    "version": 3
   },
   "file_extension": ".py",
   "mimetype": "text/x-python",
   "name": "python",
   "nbconvert_exporter": "python",
   "pygments_lexer": "ipython3",
   "version": "3.7.6"
  }
 },
 "nbformat": 4,
 "nbformat_minor": 4
}
