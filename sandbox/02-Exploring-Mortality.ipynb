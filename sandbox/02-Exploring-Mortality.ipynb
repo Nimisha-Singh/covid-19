{
 "cells": [
  {
   "cell_type": "code",
   "execution_count": 1,
   "metadata": {},
   "outputs": [],
   "source": [
    "import datetime as dt\n",
    "\n",
    "import numpy as np\n",
    "import matplotlib.pyplot as plt \n",
    "import matplotlib.dates as mdates\n",
    "import pandas as pd"
   ]
  },
  {
   "cell_type": "code",
   "execution_count": 2,
   "metadata": {},
   "outputs": [
    {
     "name": "stdout",
     "output_type": "stream",
     "text": [
      "          date  confirmed_cases  recovered_cases  death_cases\n",
      "0   2020-02-26              1.0              0.0          0.0\n",
      "1   2020-02-27              3.0              0.0          0.0\n",
      "2   2020-02-28              3.0              0.0          0.0\n",
      "3   2020-02-29              5.0              0.0          0.0\n",
      "4   2020-03-01              6.0              0.0          0.0\n",
      "..         ...              ...              ...          ...\n",
      "177 2020-08-21           7329.0           5472.0        168.0\n",
      "178 2020-08-22           7594.0           5584.0        169.0\n",
      "179 2020-08-23           7900.0           5678.0        170.0\n",
      "180 2020-08-24           8175.0           5801.0        171.0\n",
      "181 2020-08-25           8311.0           5926.0        173.0\n",
      "\n",
      "[182 rows x 4 columns]\n"
     ]
    }
   ],
   "source": [
    "# data\n",
    "confirmed_cases = np.loadtxt('../data/confirmed_cases.dat')\n",
    "recovered_cases = np.loadtxt('../data/recovered_cases.dat')\n",
    "death_cases = np.loadtxt('../data/death_cases.dat')\n",
    "\n",
    "epidemics_start_date = dt.datetime(2020, 2, 26)\n",
    "date_list = [epidemics_start_date + dt.timedelta(days=i) for i in range(confirmed_cases.size)]\n",
    "\n",
    "# dataframe\n",
    "df = pd.DataFrame({\n",
    "    'date': date_list,\n",
    "    'confirmed_cases': confirmed_cases,\n",
    "    'recovered_cases': recovered_cases,\n",
    "    'death_cases': death_cases,\n",
    "})\n",
    "print(df)"
   ]
  },
  {
   "cell_type": "code",
   "execution_count": 3,
   "metadata": {},
   "outputs": [],
   "source": [
    "def ordinary_least_squares(x, y):\n",
    "    \"\"\"Return the intercept and the bias of the linear regression line for (x, y) data.\n",
    "    Implementation details: https://en.wikipedia.org/wiki/Ordinary_least_squares \n",
    "    \n",
    "    Parameters\n",
    "    ----------\n",
    "    x : numpy.ndarray\n",
    "        1-D array of x values.\n",
    "    y : numpy.ndarray\n",
    "        1-D array of y values.\n",
    "    \n",
    "    Returns\n",
    "    -------\n",
    "    tuple\n",
    "        (intercept, bias)\n",
    "    \"\"\"\n",
    "    assert x.ndim == 1, 'x must be array_like with ndim = 1.'\n",
    "    assert y.ndim == 1, 'y must be array_like with ndim = 1.'\n",
    "    x_col = x.reshape(-1, 1)\n",
    "    x_col_bias = np.c_[x_col, np.ones(x_col.shape)]\n",
    "    y_col = y.reshape(-1, 1)\n",
    "    sol = np.linalg.pinv(x_col_bias.T @ x_col_bias) @ x_col_bias.T @ y_col \n",
    "    return (sol[0, 0], sol[1, 0])"
   ]
  },
  {
   "cell_type": "code",
   "execution_count": 4,
   "metadata": {},
   "outputs": [
    {
     "data": {
      "image/png": "[encoded data removed]",
      "text/plain": [
       "<Figure size 432x288 with 1 Axes>"
      ]
     },
     "metadata": {
      "needs_background": "light"
     },
     "output_type": "display_data"
    }
   ],
   "source": [
    "death_offset = 22\n",
    "extrapolation_addon_confirmed_cases = 70\n",
    "x = np.diff(df.confirmed_cases)[:-death_offset]\n",
    "y = np.diff(df.death_cases)[death_offset:]\n",
    "\n",
    "k, l = ordinary_least_squares(x, y)\n",
    "\n",
    "plt.plot(x, y, 'bo', label='Data')\n",
    "plt.plot(x, k*x + l, 'r-', label='Linear fit')\n",
    "plt.plot(\n",
    "    np.arange(np.max(x), np.max(x) + extrapolation_addon_confirmed_cases), \n",
    "    k*np.arange(np.max(x), np.max(x) + extrapolation_addon_confirmed_cases) + l, \n",
    "    'r--', label='Linear extrapolation',\n",
    ")\n",
    "plt.xlabel('New confirmed infections daily')\n",
    "plt.ylabel('New death cases daily')\n",
    "plt.title(f'{death_offset} days delayed death cases over new daily cases')\n",
    "plt.legend()\n",
    "plt.grid()\n",
    "plt.show()"
   ]
  }
 ],
 "metadata": {
  "kernelspec": {
   "display_name": "Python 3",
   "language": "python",
   "name": "python3"
  },
  "language_info": {
   "codemirror_mode": {
    "name": "ipython",
    "version": 3
   },
   "file_extension": ".py",
   "mimetype": "text/x-python",
   "name": "python",
   "nbconvert_exporter": "python",
   "pygments_lexer": "ipython3",
   "version": "3.7.6"
  }
 },
 "nbformat": 4,
 "nbformat_minor": 4
}
