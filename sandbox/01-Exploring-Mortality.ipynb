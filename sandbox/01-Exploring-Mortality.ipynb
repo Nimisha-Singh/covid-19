{
 "cells": [
  {
   "cell_type": "code",
   "execution_count": 9,
   "metadata": {},
   "outputs": [],
   "source": [
    "import datetime as dt\n",
    "import os\n",
    "\n",
    "import matplotlib.pyplot as plt \n",
    "from numpy import *\n",
    "import pandas as pd"
   ]
  },
  {
   "cell_type": "code",
   "execution_count": 11,
   "metadata": {},
   "outputs": [
    {
     "output_type": "error",
     "ename": "NameError",
     "evalue": "name 'np' is not defined",
     "traceback": [
      "\u001b[1;31m---------------------------------------------------------------------------\u001b[0m",
      "\u001b[1;31mNameError\u001b[0m                                 Traceback (most recent call last)",
      "\u001b[1;32m<ipython-input-11-40985b47af11>\u001b[0m in \u001b[0;36m<module>\u001b[1;34m\u001b[0m\n\u001b[0;32m      8\u001b[0m \u001b[0mTESTS_PATH\u001b[0m \u001b[1;33m=\u001b[0m \u001b[0mos\u001b[0m\u001b[1;33m.\u001b[0m\u001b[0mpath\u001b[0m\u001b[1;33m.\u001b[0m\u001b[0mjoin\u001b[0m\u001b[1;33m(\u001b[0m\u001b[0mDATA_PATH\u001b[0m\u001b[1;33m,\u001b[0m \u001b[0mCOUNTRY\u001b[0m\u001b[1;33m,\u001b[0m \u001b[1;34m'tests.dat'\u001b[0m\u001b[1;33m)\u001b[0m\u001b[1;33m\u001b[0m\u001b[1;33m\u001b[0m\u001b[0m\n\u001b[0;32m      9\u001b[0m \u001b[1;33m\u001b[0m\u001b[0m\n\u001b[1;32m---> 10\u001b[1;33m \u001b[0mconfirmed_cases\u001b[0m \u001b[1;33m=\u001b[0m \u001b[0mnp\u001b[0m\u001b[1;33m.\u001b[0m\u001b[0mloadtxt\u001b[0m\u001b[1;33m(\u001b[0m\u001b[0mCONFIRMED_CASES_PATH\u001b[0m\u001b[1;33m)\u001b[0m\u001b[1;33m\u001b[0m\u001b[1;33m\u001b[0m\u001b[0m\n\u001b[0m\u001b[0;32m     11\u001b[0m \u001b[0mrecovered_cases\u001b[0m \u001b[1;33m=\u001b[0m \u001b[0mnp\u001b[0m\u001b[1;33m.\u001b[0m\u001b[0mloadtxt\u001b[0m\u001b[1;33m(\u001b[0m\u001b[0mRECOVERED_CASES_PATH\u001b[0m\u001b[1;33m)\u001b[0m\u001b[1;33m\u001b[0m\u001b[1;33m\u001b[0m\u001b[0m\n\u001b[0;32m     12\u001b[0m \u001b[0mdeath_cases\u001b[0m \u001b[1;33m=\u001b[0m \u001b[0mnp\u001b[0m\u001b[1;33m.\u001b[0m\u001b[0mloadtxt\u001b[0m\u001b[1;33m(\u001b[0m\u001b[0mDEATH_CASES_PATH\u001b[0m\u001b[1;33m)\u001b[0m\u001b[1;33m\u001b[0m\u001b[1;33m\u001b[0m\u001b[0m\n",
      "\u001b[1;31mNameError\u001b[0m: name 'np' is not defined"
     ]
    }
   ],
   "source": [
    "# data\n",
    "DATA_PATH = os.path.join(os.pardir, 'data')\n",
    "COUNTRY = 'INDIA'\n",
    "DATA = os.path.join(DATA_PATH, COUNTRY)\n",
    "CONFIRMED_CASES_PATH = os.path.join(DATA_PATH, COUNTRY, 'confirmed_cases.dat')\n",
    "RECOVERED_CASES_PATH = os.path.join(DATA_PATH, COUNTRY, 'recovered_cases.dat')\n",
    "DEATH_CASES_PATH = os.path.join(DATA_PATH, COUNTRY, 'death_cases.dat')\n",
    "TESTS_PATH = os.path.join(DATA_PATH, COUNTRY, 'tests.dat')\n",
    "\n",
    "confirmed_cases = np.loadtxt(CONFIRMED_CASES_PATH)\n",
    "recovered_cases = np.loadtxt(RECOVERED_CASES_PATH)\n",
    "death_cases = np.loadtxt(DEATH_CASES_PATH)\n",
    "daily_tests = np.loadtxt(TESTS_PATH)\n",
    "\n",
    "epidemics_start_date = dt.datetime(2020, 3, 25)\n",
    "date_list = [epidemics_start_date + dt.timedelta(days=i) for i in range(confirmed_cases.size)]\n",
    "\n",
    "# full dataframe\n",
    "df = pd.DataFrame({\n",
    "    'date': date_list,\n",
    "    'confirmed_cases': confirmed_cases,\n",
    "    'recovered_cases': recovered_cases,\n",
    "    'death_cases': death_cases})\n",
    "print(df)"
   ]
  },
  {
   "cell_type": "code",
   "execution_count": null,
   "metadata": {},
   "outputs": [],
   "source": [
    "def ordinary_least_squares(x, y):\n",
    "    \"\"\"Return the intercept and the bias of the linear regression line for (x, y) data.\n",
    "    Implementation details: https://en.wikipedia.org/wiki/Ordinary_least_squares \n",
    "    \n",
    "    Parameters\n",
    "    ----------\n",
    "    x : numpy.ndarray\n",
    "        1-D array of x values.\n",
    "    y : numpy.ndarray\n",
    "        1-D array of y values.\n",
    "    \n",
    "    Returns\n",
    "    -------\n",
    "    tuple\n",
    "        (intercept, bias)\n",
    "    \"\"\"\n",
    "    assert x.ndim == 1, 'x must be array_like with ndim = 1.'\n",
    "    assert y.ndim == 1, 'y must be array_like with ndim = 1.'\n",
    "    x_col = x.reshape(-1, 1)\n",
    "    x_col_bias = np.c_[x_col, np.ones(x_col.shape)]\n",
    "    y_col = y.reshape(-1, 1)\n",
    "    sol = np.linalg.pinv(x_col_bias.T @ x_col_bias) @ x_col_bias.T @ y_col \n",
    "    return (sol[0, 0], sol[1, 0])"
   ]
  },
  {
   "cell_type": "code",
   "execution_count": null,
   "metadata": {},
   "outputs": [],
   "source": [
    "def fit(confirmed_cases, death_cases, death_offset=22, extrapolation_addon_confirmed_cases=None, plot=False):\n",
    "    \"\"\"Return slope and intercept from linear fit delayed number of new death cases over new daily infected cases.\n",
    "    \n",
    "    confirmed_cases : numpy.ndarray\n",
    "        Time series of confirmed infections.\n",
    "    death_cases : numpy.ndarray\n",
    "        Time series of confirmed deaths.\n",
    "    death_offset : int, optional\n",
    "        Number of days from infection until death.\n",
    "    extrapolation_addon_confirmed_cases : int, optional\n",
    "        Number of additional infections to predict deaths to.\n",
    "    plot : bool, optional\n",
    "        Visualize fitted model and data.\n",
    "        \n",
    "    Returns\n",
    "    -------\n",
    "    tuple\n",
    "        (slope, intercept)\n",
    "    \"\"\"\n",
    "    x = np.diff(confirmed_cases)[:-death_offset]\n",
    "    y = np.diff(death_cases)[death_offset:]\n",
    "\n",
    "    k, b = ordinary_least_squares(x, y)\n",
    "    if plot:\n",
    "        plt.figure(figsize=(10, 4))\n",
    "        plt.scatter(x, y, label='Data', edgecolors='blue', facecolors='none')\n",
    "        plt.plot(x, k*x + b, 'b-', label='Linear fit')\n",
    "        if extrapolation_addon_confirmed_cases:\n",
    "            plt.plot(np.arange(np.max(x), np.max(x) + extrapolation_addon_confirmed_cases), k*np.arange(np.max(x), np.max(x) + extrapolation_addon_confirmed_cases) + b, 'r--', label='Linear extrapolation')\n",
    "        plt.text(1.03*np.max(x), 0.97*k*np.max(x) + b, f'k = {round(k, 5)}', verticalalignment='top', bbox=dict(boxstyle='round', facecolor='wheat', alpha=0.5))\n",
    "        plt.xlabel('New confirmed infections daily')\n",
    "        plt.ylabel('New death cases daily')\n",
    "        plt.title(f'{death_offset} days delayed death cases over new daily cases')\n",
    "        plt.legend()\n",
    "        plt.grid()\n",
    "        plt.show()\n",
    "    return (k, b)"
   ]
  },
  {
   "cell_type": "code",
   "execution_count": null,
   "metadata": {},
   "outputs": [],
   "source": [
    "# full data set\n",
    "k, b = fit(confirmed_cases=df.confirmed_cases, death_cases=df.death_cases, death_offset=18, extrapolation_addon_confirmed_cases=1000, plot=True)"
   ]
  },
  {
   "cell_type": "code",
   "execution_count": null,
   "metadata": {
    "scrolled": true
   },
   "outputs": [],
   "source": [
    "# first wave data dataframe\n",
    "df_1 = df[df.date<=dt.datetime(2020, 6, 1)]\n",
    "df_1 = df_1.reset_index(drop=True)\n",
    "\n",
    "k, b = fit(confirmed_cases=df_1.confirmed_cases,  death_cases=df_1.death_cases,  death_offset=22, extrapolation_addon_confirmed_cases=100, plot=True)"
   ]
  },
  {
   "cell_type": "code",
   "execution_count": null,
   "metadata": {},
   "outputs": [],
   "source": [
    "# second wave data dataframe\n",
    "df_2 = df[df.date>dt.datetime(2020, 6, 1)]\n",
    "df_2 = df_2.reset_index(drop=True)\n",
    "\n",
    "k, b = fit(confirmed_cases=df_2.confirmed_cases, death_cases=df_2.death_cases, death_offset=22, extrapolation_addon_confirmed_cases=500, plot=True)"
   ]
  },
  {
   "cell_type": "code",
   "execution_count": null,
   "metadata": {},
   "outputs": [],
   "source": [
    "# during August\n",
    "df_aug = df[(df.date>=dt.datetime(2020, 4, 1)) & (df.date<dt.datetime(2020, 9, 1))]\n",
    "df_aug = df_aug.reset_index(drop=True)\n",
    "\n",
    "k, b = fit(confirmed_cases=df_aug.confirmed_cases, death_cases=df_aug.death_cases, death_offset=12, extrapolation_addon_confirmed_cases=150, plot=True)"
   ]
  },
  {
   "cell_type": "code",
   "execution_count": null,
   "metadata": {},
   "outputs": [],
   "source": [
    "# during September \n",
    "df_sep = df[(df.date>=dt.datetime(2020, 9, 1)) & (df.date<dt.datetime(2020, 10, 1))]\n",
    "df_sep = df_sep.reset_index(drop=True)\n",
    "\n",
    "k, b = fit(confirmed_cases=df_sep.confirmed_cases, death_cases=df_sep.death_cases, death_offset=12, plot=True)"
   ]
  },
  {
   "cell_type": "code",
   "execution_count": null,
   "metadata": {},
   "outputs": [],
   "source": [
    "# during October \n",
    "df_oct = df[(df.date>=dt.datetime(2020, 10, 1)) & (df.date<dt.datetime(2020, 11, 1))]\n",
    "df_oct = df_oct.reset_index(drop=True)\n",
    "\n",
    "k, b = fit(confirmed_cases=df_oct.confirmed_cases, death_cases=df_oct.death_cases, death_offset=12, plot=True)"
   ]
  },
  {
   "cell_type": "code",
   "execution_count": null,
   "metadata": {},
   "outputs": [],
   "source": []
  }
 ],
 "metadata": {
  "kernelspec": {
   "name": "python3",
   "display_name": "Python 3.9.0 64-bit",
   "metadata": {
    "interpreter": {
     "hash": "9e686dfef1d5503a27ec8aa774200608216346dd535d465366844c24c4bba384"
    }
   }
  },
  "language_info": {
   "codemirror_mode": {
    "name": "ipython",
    "version": 3
   },
   "file_extension": ".py",
   "mimetype": "text/x-python",
   "name": "python",
   "nbconvert_exporter": "python",
   "pygments_lexer": "ipython3",
   "version": "3.9.0-final"
  }
 },
 "nbformat": 4,
 "nbformat_minor": 4
}