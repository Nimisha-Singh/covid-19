{
 "cells": [
  {
   "cell_type": "code",
   "execution_count": 1,
   "metadata": {},
   "outputs": [],
   "source": [
    "import datetime as dt\n",
    "import os\n",
    "\n",
    "import matplotlib.pyplot as plt\n",
    "import numpy as np\n",
    "import pandas as pd"
   ]
  },
  {
   "cell_type": "code",
   "execution_count": 2,
   "metadata": {},
   "outputs": [],
   "source": [
    "# data\n",
    "DATA_PATH = os.path.join(os.pardir, 'data')\n",
    "COUNTRY = 'CRO'\n",
    "DATA = os.path.join(DATA_PATH, COUNTRY)\n",
    "CONFIRMED_CASES_PATH = os.path.join(DATA_PATH, COUNTRY, 'confirmed_cases.dat')\n",
    "RECOVERED_CASES_PATH = os.path.join(DATA_PATH, COUNTRY, 'recovered_cases.dat')\n",
    "DEATH_CASES_PATH = os.path.join(DATA_PATH, COUNTRY, 'death_cases.dat')\n",
    "TESTS_PATH = os.path.join(DATA_PATH, COUNTRY, 'tests.dat')\n",
    "\n",
    "confirmed_cases = np.loadtxt(CONFIRMED_CASES_PATH)\n",
    "recovered_cases = np.loadtxt(RECOVERED_CASES_PATH)\n",
    "death_cases = np.loadtxt(DEATH_CASES_PATH)\n",
    "daily_tests = np.loadtxt(TESTS_PATH)\n",
    "\n",
    "epidemics_start_date = dt.datetime(2020, 2, 25)\n",
    "date_list = [epidemics_start_date + dt.timedelta(days=i) for i in range(confirmed_cases.size)]\n",
    "# full data dataframe\n",
    "df = pd.DataFrame({\n",
    "    'date': date_list,\n",
    "    'confirmed_cases': confirmed_cases,\n",
    "    'recovered_cases': recovered_cases,\n",
    "    'death_cases': death_cases,\n",
    "    'daily_tests': daily_tests})"
   ]
  },
  {
   "cell_type": "markdown",
   "metadata": {},
   "source": [
    "Unfortunatelly, there is no confirmed value of sensitivity and specificity for tests in Croatia (different hospitals) use different tests. Ideal case is when both sensitivity and specificity are 1 (no false classifications). Realistic case is to expect high value of specificity and sensitivity between 72% and 98% [1](https://www.bmj.com/content/bmj/369/bmj.m1808.full.pdf). Since this simulator takes worse case scenario into an account (95% CI lower bound for sensitivity and upper bound for specificity), the simulation performed here uses sensitivity with expected value of 85% (for 95% CI range between 80.75% and 89.25%, where lower value is taken into an  account) and specificity with expected value of 95% (for 95% CI range between 90.25% and 99.75%, where upper value is taken into an account).\n",
    "\n",
    "Ref.\n",
    "[1] BMJ 2020;369:m1808 "
   ]
  },
  {
   "cell_type": "code",
   "execution_count": 41,
   "metadata": {},
   "outputs": [],
   "source": [
    "from coropy.growth_models import GrowthCOVIDModel, _logistic_func, _exp_func\n",
    "from coropy.utils import normalize, restore\n",
    "from sklearn.preprocessing import MinMaxScaler\n",
    "from scipy.optimize import curve_fit"
   ]
  },
  {
   "cell_type": "code",
   "execution_count": 59,
   "metadata": {},
   "outputs": [],
   "source": [
    "eff_date = dt.datetime(2020, 6, 1)\n",
    "df_critical = df[df.date < eff_date]\n",
    "df_critical.reset_index(drop=True, inplace=True)\n",
    "\n",
    "cumulative_positive = df_critical.confirmed_cases.values\n",
    "daily_positive = np.concatenate((np.array([cumulative_positive[0]]), np.diff(cumulative_positive)))\n",
    "cumulative_removed = df_critical.recovered_cases.values + df_critical.death_cases.values\n",
    "daily_tests = df_critical.daily_tests.values"
   ]
  },
  {
   "cell_type": "code",
   "execution_count": 60,
   "metadata": {},
   "outputs": [],
   "source": [
    "pcr_sens = 0.9\n",
    "pcr_spec = 0.95"
   ]
  },
  {
   "cell_type": "code",
   "execution_count": 61,
   "metadata": {},
   "outputs": [],
   "source": [
    "std_sens_err = np.sqrt(np.divide(\n",
    "    (1 - pcr_sens) * pcr_sens, \n",
    "    daily_positive, \n",
    "    out=np.zeros(daily_positive.shape, dtype=float), \n",
    "    where=daily_positive!=0,))\n",
    "sens_lb_ci = pcr_sens - 1.96 * std_sens_err\n",
    "tp_lb_ci = sens_lb_ci * daily_positive\n",
    "cumulative_tp_lb_ci = np.cumsum(tp_lb_ci)\n",
    "\n",
    "daily_tests = np.concatenate((np.array([daily_tests[0]]),\n",
    "    daily_tests[:-1]))\n",
    "daily_negative = daily_tests - daily_positive\n",
    "std_spec_err = np.sqrt(np.divide(\n",
    "    (1 - pcr_spec) * pcr_spec,\n",
    "    daily_negative,\n",
    "    out=np.zeros(daily_negative.shape, dtype=float), \n",
    "    where=daily_negative!=0,))\n",
    "spec_ub_ci = pcr_spec - 1.96 * std_spec_err\n",
    "tn_ci = spec_ub_ci * daily_negative\n",
    "fn_ci = daily_negative - tn_ci\n",
    "tp_ub_ci = fn_ci + daily_positive\n",
    "cumulative_tp_ub_ci = np.cumsum(tp_ub_ci)"
   ]
  },
  {
   "cell_type": "code",
   "execution_count": 62,
   "metadata": {},
   "outputs": [],
   "source": [
    "y_data_disp = np.asarray([np.random.uniform(cumulative_tp_lb_ci[i], cumulative_tp_ub_ci[i], 100) for i in range(cumulative_positive.size)])"
   ]
  },
  {
   "cell_type": "code",
   "execution_count": 63,
   "metadata": {},
   "outputs": [],
   "source": [
    "y_data_stds = y_data_disp.std(axis=1)"
   ]
  },
  {
   "cell_type": "code",
   "execution_count": 64,
   "metadata": {},
   "outputs": [],
   "source": [
    "scaler = MinMaxScaler()\n",
    "y = scaler.fit_transform(cumulative_positive.reshape(-1, 1))\n",
    "y_spread = scaler.transform(y_data_stds.reshape(-1, 1))\n",
    "x = normalize(np.arange(cumulative_positive.size))"
   ]
  },
  {
   "cell_type": "code",
   "execution_count": 84,
   "metadata": {},
   "outputs": [],
   "source": [
    "popt, pcov = curve_fit(_logistic_func, x, y.ravel(),sigma=y_spread.ravel(), absolute_sigma=True)\n",
    "fitted = _logistic_func(x, *popt)"
   ]
  },
  {
   "cell_type": "code",
   "execution_count": 85,
   "metadata": {},
   "outputs": [],
   "source": [
    "perr = np.sqrt(np.diag(pcov))\n",
    "lower_bound = _logistic_func(x, *(popt)) + y_spread.ravel()\n",
    "upper_bound = _logistic_func(x, *(popt)) - y_spread.ravel()"
   ]
  },
  {
   "cell_type": "code",
   "execution_count": 86,
   "metadata": {},
   "outputs": [
    {
     "data": {
      "text/plain": [
       "[<matplotlib.lines.Line2D at 0x7f810317c750>]"
      ]
     },
     "execution_count": 86,
     "metadata": {},
     "output_type": "execute_result"
    },
    {
     "data": {
      "image/png": "[encoded data removed]",
      "text/plain": [
       "<Figure size 432x288 with 1 Axes>"
      ]
     },
     "metadata": {
      "needs_background": "light"
     },
     "output_type": "display_data"
    }
   ],
   "source": [
    "plt.plot(x, fitted)\n",
    "plt.fill_between(x, lower_bound, upper_bound, color='blue', alpha=0.2)\n",
    "plt.plot(x, y)"
   ]
  },
  {
   "cell_type": "code",
   "execution_count": 40,
   "metadata": {},
   "outputs": [],
   "source": []
  }
 ],
 "metadata": {
  "kernelspec": {
   "display_name": "Python 3",
   "language": "python",
   "name": "python3"
  },
  "language_info": {
   "codemirror_mode": {
    "name": "ipython",
    "version": 3
   },
   "file_extension": ".py",
   "mimetype": "text/x-python",
   "name": "python",
   "nbconvert_exporter": "python",
   "pygments_lexer": "ipython3",
   "version": "3.7.6"
  }
 },
 "nbformat": 4,
 "nbformat_minor": 4
}
