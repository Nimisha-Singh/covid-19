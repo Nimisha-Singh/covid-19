{
 "cells": [
  {
   "cell_type": "code",
   "execution_count": 6,
   "metadata": {},
   "outputs": [],
   "source": [
    "import datetime as dt\n",
    "import os\n",
    "\n",
    "import matplotlib.pyplot as plt\n",
    "import numpy as np\n",
    "\n",
    "from coropy.compartmental_models import SEIRModel, SEIRDModel"
   ]
  },
  {
   "cell_type": "code",
   "execution_count": 7,
   "metadata": {},
   "outputs": [],
   "source": [
    "# data\n",
    "DATA_PATH = os.path.join(os.pardir, 'data')\n",
    "COUNTRY = 'INDIA'\n",
    "DATA = os.path.join(DATA_PATH, COUNTRY)\n",
    "CONFIRMED_CASES_PATH = os.path.join(DATA_PATH, COUNTRY, 'confirmed_cases.dat')\n",
    "RECOVERED_CASES_PATH = os.path.join(DATA_PATH, COUNTRY, 'recovered_cases.dat')\n",
    "DEATH_CASES_PATH = os.path.join(DATA_PATH, COUNTRY, 'death_cases.dat')\n",
    "TESTS_PATH = os.path.join(DATA_PATH, COUNTRY, 'tests.dat')\n",
    "\n",
    "confirmed_cases = np.loadtxt(CONFIRMED_CASES_PATH)\n",
    "recovered_cases = np.loadtxt(RECOVERED_CASES_PATH)\n",
    "death_cases = np.loadtxt(DEATH_CASES_PATH)\n",
    "daily_tests = np.loadtxt(TESTS_PATH)\n",
    "\n",
    "eff_dates=[dt.datetime(2020, 2, 25), dt.datetime(2020, 6, 1), dt.datetime(2020, 8, 8)]"
   ]
  },
  {
   "cell_type": "code",
   "execution_count": 8,
   "metadata": {},
   "outputs": [
    {
     "name": "stdout",
     "output_type": "stream",
     "text": [
      "INFO:root:L-BFGS-B optimization started: 2020-11-21 09:16:44.224527\n",
      "INFO:root:Elapsed time: 8.2143s\n",
      "INFO:root:L-BFGS-B optimization started: 2020-11-21 09:16:52.462821\n",
      "INFO:root:Elapsed time: 5.8092s\n",
      "INFO:root:L-BFGS-B optimization started: 2020-11-21 09:16:58.280007\n",
      "INFO:root:Elapsed time: 6.3698s\n"
     ]
    },
    {
     "data": {
      "image/png": "[encoded data removed]",
      "text/plain": [
       "<Figure size 432x288 with 1 Axes>"
      ]
     },
     "metadata": {
      "needs_background": "light"
     },
     "output_type": "display_data"
    }
   ],
   "source": [
    "eff_population_scaler = 1\n",
    "first_wave_eff_population = 2200\n",
    "S0 = first_wave_eff_population * eff_population_scaler\n",
    "E0 = 3 * confirmed_cases[0]\n",
    "I0 = confirmed_cases[0]\n",
    "R0 = recovered_cases[0]\n",
    "D0 = death_cases[0]\n",
    "IC = (S0, E0, I0, R0, D0)\n",
    "\n",
    "S_tot, E_tot, I_tot, R_tot, D_tot = [], [], [], [], []\n",
    "\n",
    "# past wave(s)\n",
    "start_idx = 0\n",
    "for start_date, end_date in zip(eff_dates[:-1], eff_dates[1:]):\n",
    "    end_idx = start_idx+abs((end_date - start_date).days)\n",
    "    model = SEIRDModel()\n",
    "    _, _ = model.fit(confirmed_cases[start_idx:end_idx], recovered_cases[start_idx:end_idx], death_cases[start_idx:end_idx], IC)\n",
    "    (S, E, I, R, D) = model.simulate()\n",
    "    S_tot.extend(S.tolist())\n",
    "    E_tot.extend(E.tolist())\n",
    "    I_tot.extend(I.tolist())\n",
    "    R_tot.extend(R.tolist())\n",
    "    D_tot.extend(D.tolist())\n",
    "    \n",
    "    eff_population_scaler += 1\n",
    "    S0 = S0 * eff_population_scaler\n",
    "    IC = (S0, 3 * I[-1], I[-1], R[-1], D[-1])  # update initial conditions\n",
    "    start_idx = end_idx  # update indexing\n",
    "\n",
    "# current wave   \n",
    "model = SEIRDModel()\n",
    "_, _ = model.fit(confirmed_cases[start_idx:], recovered_cases[start_idx:], death_cases[start_idx:], IC)\n",
    "(S, E, I, R, D) = model.simulate()\n",
    "S_tot.extend(S.tolist())\n",
    "E_tot.extend(E.tolist())\n",
    "I_tot.extend(I.tolist())\n",
    "R_tot.extend(R.tolist())\n",
    "D_tot.extend(D.tolist())\n",
    "\n",
    "# visualize\n",
    "fig, ax = plt.subplots()\n",
    "ax.plot(I_tot, 'b-', label='$I_{fit}(t)$')\n",
    "ax.plot(confirmed_cases - recovered_cases - death_cases, 'b.', label='$I_{data}(t)$')\n",
    "ax.plot(R_tot, 'r-', label='$R_{fit}(t)$')\n",
    "ax.plot(recovered_cases, 'r.', label='$R_{data}(t)$')\n",
    "ax.plot(D_tot, 'g-', label='$D_{fit}(t)$')\n",
    "ax.plot(death_cases, 'g.', label='$D_{data}(t)$')\n",
    "ax.set_xlabel('$\\Delta t$ days from Feb, $25^{th}$')\n",
    "ax.set_ylabel('$N$')\n",
    "ax.legend()\n",
    "ax.grid()\n",
    "plt.show()"
   ]
  },
  {
   "cell_type": "code",
   "execution_count": null,
   "metadata": {},
   "outputs": [],
   "source": []
  }
 ],
 "metadata": {
  "kernelspec": {
   "display_name": "Python 3",
   "language": "python",
   "name": "python3"
  },
  "language_info": {
   "codemirror_mode": {
    "name": "ipython",
    "version": 3
   },
   "file_extension": ".py",
   "mimetype": "text/x-python",
   "name": "python",
   "nbconvert_exporter": "python",
   "pygments_lexer": "ipython3",
   "version": "3.8.5"
  }
 },
 "nbformat": 4,
 "nbformat_minor": 4
}
