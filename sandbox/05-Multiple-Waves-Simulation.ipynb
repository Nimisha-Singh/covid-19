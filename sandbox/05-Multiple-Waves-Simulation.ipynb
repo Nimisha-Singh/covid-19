{
 "cells": [
  {
   "cell_type": "code",
   "execution_count": 1,
   "metadata": {},
   "outputs": [],
   "source": [
    "import datetime as dt\n",
    "import os\n",
    "\n",
    "import numpy as np\n",
    "\n",
    "from coropy import simulate"
   ]
  },
  {
   "cell_type": "code",
   "execution_count": 2,
   "metadata": {},
   "outputs": [],
   "source": [
    "# data\n",
    "DATA_PATH = os.path.join(os.pardir, 'data')\n",
    "COUNTRY = 'CRO'\n",
    "DATA = os.path.join(DATA_PATH, COUNTRY)\n",
    "CONFIRMED_CASES_PATH = os.path.join(\n",
    "    DATA_PATH, COUNTRY, 'confirmed_cases.dat')\n",
    "RECOVERED_CASES_PATH = os.path.join(\n",
    "    DATA_PATH, COUNTRY, 'recovered_cases.dat')\n",
    "DEATH_CASES_PATH = os.path.join(\n",
    "    DATA_PATH, COUNTRY, 'death_cases.dat')\n",
    "TESTS_PATH = os.path.join(\n",
    "    DATA_PATH, COUNTRY, 'tests.dat')\n",
    "\n",
    "confirmed_cases = np.loadtxt(CONFIRMED_CASES_PATH)\n",
    "recovered_cases = np.loadtxt(RECOVERED_CASES_PATH)\n",
    "death_cases = np.loadtxt(DEATH_CASES_PATH)\n",
    "daily_tests = np.loadtxt(TESTS_PATH)\n",
    "\n",
    "eff_dates=[dt.datetime(2020, 2, 25), dt.datetime(2020, 6, 1), dt.datetime(2020, 8, 8)],"
   ]
  },
  {
   "cell_type": "code",
   "execution_count": null,
   "metadata": {},
   "outputs": [],
   "source": []
  }
 ],
 "metadata": {
  "kernelspec": {
   "display_name": "Python 3",
   "language": "python",
   "name": "python3"
  },
  "language_info": {
   "codemirror_mode": {
    "name": "ipython",
    "version": 3
   },
   "file_extension": ".py",
   "mimetype": "text/x-python",
   "name": "python",
   "nbconvert_exporter": "python",
   "pygments_lexer": "ipython3",
   "version": "3.7.6"
  }
 },
 "nbformat": 4,
 "nbformat_minor": 4
}
