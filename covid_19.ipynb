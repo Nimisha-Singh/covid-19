{
 "cells": [
  {
   "cell_type": "markdown",
   "metadata": {},
   "source": [
    "## COVID-19\n",
    "\n",
    "Date: 2020, 31 Mar\n",
    "\n",
    "Seminar for the graduate course in Modeling and Simulation of Physical Systems [FEMT16](https://nastava.fesb.unist.hr/nastava/predmeti/11623), taught by professors Dragan Poljak and Ivica Puljak. "
   ]
  },
  {
   "cell_type": "code",
   "execution_count": 1,
   "metadata": {},
   "outputs": [],
   "source": [
    "# libs\n",
    "import numpy as np \n",
    "import matplotlib.pyplot as plt \n",
    "import matplotlib.dates as mdates\n",
    "import datetime as dt\n",
    "\n",
    "from covid_19.utils import normalize, restore, moving_average, train_test_split\n",
    "from covid_19.plotting import plotData, figsize, latexconfig\n",
    "from covid_19.exponential_models import ExponentialModel, LogisticModel\n",
    "from covid_19.compartmental_models import SIR, SEIR\n",
    "\n",
    "# enable LaTex figure formatting\n",
    "latexconfig()"
   ]
  },
  {
   "cell_type": "code",
   "execution_count": 2,
   "metadata": {},
   "outputs": [],
   "source": [
    "# data\n",
    "confirmed_cases = np.loadtxt('data/confirmed_cases.dat')\n",
    "recovered_cases = np.loadtxt('data/recovered_cases.dat')\n",
    "\n",
    "# train-test split \n",
    "ratio = 1.\n",
    "train_confirmed_cases, test_confirmed_cases = train_test_split(confirmed_cases, ratio)\n",
    "train_recovered_cases, test_recovered_cases = train_test_split(recovered_cases, ratio)\n",
    "\n",
    "# days since first case\n",
    "x = np.arange(len(confirmed_cases))"
   ]
  },
  {
   "cell_type": "code",
   "execution_count": 3,
   "metadata": {},
   "outputs": [],
   "source": [
    "S0, E0, I0, R0 = 4e6, 4, 2, 0 # rough estimate, from GP fit upper bound\n",
    "initial_conditions = [S0, E0, I0, R0]\n",
    "N = np.sum(initial_conditions)\n",
    "n_future_days = len(confirmed_cases) * 5"
   ]
  },
  {
   "cell_type": "code",
   "execution_count": 4,
   "metadata": {},
   "outputs": [],
   "source": [
    "seir_model = SEIR()"
   ]
  },
  {
   "cell_type": "code",
   "execution_count": 5,
   "metadata": {},
   "outputs": [],
   "source": [
    "beta, delta, alpha, gamma = seir_model.fit(confirmed_cases, recovered_cases, initial_conditions)"
   ]
  },
  {
   "cell_type": "code",
   "execution_count": 9,
   "metadata": {},
   "outputs": [],
   "source": [
    "sol = seir_model.predict(n_future_days)"
   ]
  },
  {
   "cell_type": "code",
   "execution_count": null,
   "metadata": {},
   "outputs": [],
   "source": []
  }
 ],
 "metadata": {
  "kernelspec": {
   "display_name": "Python 3",
   "language": "python",
   "name": "python3"
  },
  "language_info": {
   "codemirror_mode": {
    "name": "ipython",
    "version": 3
   },
   "file_extension": ".py",
   "mimetype": "text/x-python",
   "name": "python",
   "nbconvert_exporter": "python",
   "pygments_lexer": "ipython3",
   "version": "3.7.4"
  }
 },
 "nbformat": 4,
 "nbformat_minor": 2
}
