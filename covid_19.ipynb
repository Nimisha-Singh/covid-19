{
 "cells": [
  {
   "cell_type": "markdown",
   "metadata": {},
   "source": [
    "## COVID-19\n",
    "\n",
    "Date: 2020, 31 Mar\n",
    "\n",
    "Seminar for the graduate course in Modeling and Simulation of Physical Systems [FEMT16](https://nastava.fesb.unist.hr/nastava/predmeti/11623), taught by professors Dragan Poljak and Ivica Puljak. "
   ]
  },
  {
   "cell_type": "code",
   "execution_count": 107,
   "metadata": {},
   "outputs": [],
   "source": [
    "# libs\n",
    "import numpy as np \n",
    "import matplotlib.pyplot as plt \n",
    "import matplotlib.dates as mdates\n",
    "import datetime as dt\n",
    "\n",
    "from covid_19.utils import normalize, restore, moving_average, train_test_split, cdf\n",
    "from covid_19.plotting import plotData, figsize, latexconfig\n",
    "from covid_19.exponential_models import ExponentialModel, LogisticModel\n",
    "from covid_19.compartmental_models import SIR, SEIR\n",
    "\n",
    "# enable LaTex figure formatting\n",
    "latexconfig()"
   ]
  },
  {
   "cell_type": "code",
   "execution_count": 108,
   "metadata": {},
   "outputs": [],
   "source": [
    "# data\n",
    "confirmed_cases = np.loadtxt('data/cro/confirmed_cases.dat')\n",
    "recovered_cases = np.loadtxt('data/cro/recovered_cases.dat')\n",
    "\n",
    "# train-test split \n",
    "ratio = 1.\n",
    "train_confirmed_cases, test_confirmed_cases = train_test_split(confirmed_cases, ratio)\n",
    "train_recovered_cases, test_recovered_cases = train_test_split(recovered_cases, ratio)\n",
    "\n",
    "# days since first case\n",
    "x = np.arange(len(confirmed_cases))"
   ]
  },
  {
   "cell_type": "code",
   "execution_count": 130,
   "metadata": {},
   "outputs": [],
   "source": [
    "sir = SIR()\n",
    "initial_conditions = [4e6, confirmed_cases[0], recovered_cases[0]]\n",
    "beta, gamma = sir.fit(confirmed_cases, recovered_cases, initial_conditions)\n",
    "n_days = len(confirmed_cases) * 3\n",
    "sol = sir.predict(n_days)"
   ]
  },
  {
   "cell_type": "code",
   "execution_count": 135,
   "metadata": {},
   "outputs": [],
   "source": [
    "seir = SEIR()"
   ]
  },
  {
   "cell_type": "code",
   "execution_count": 146,
   "metadata": {},
   "outputs": [],
   "source": [
    "initial_conditions = [10000, 0, confirmed_cases[0], recovered_cases[0]]\n",
    "seir.fit(confirmed_cases, recovered_cases, initial_conditions)\n",
    "n_days = len(confirmed_cases) * 3\n",
    "sol = seir.predict(n_days)"
   ]
  },
  {
   "cell_type": "code",
   "execution_count": 147,
   "metadata": {},
   "outputs": [
    {
     "data": {
      "text/plain": [
       "[<matplotlib.lines.Line2D at 0x7f18cee5c910>]"
      ]
     },
     "execution_count": 147,
     "metadata": {},
     "output_type": "execute_result"
    },
    {
     "data": {
      "image/png": "[encoded data removed]",
      "text/plain": [
       "<Figure size 388.543x240.133 with 1 Axes>"
      ]
     },
     "metadata": {
      "needs_background": "light"
     },
     "output_type": "display_data"
    }
   ],
   "source": [
    "plt.plot(sol.y[0])\n",
    "plt.plot(sol.y[1])\n",
    "plt.plot(sol.y[2])\n",
    "plt.plot(sol.y[3])\n",
    "plt.plot(confirmed_cases, 'gx')\n",
    "plt.plot(recovered_cases, 'rx')"
   ]
  },
  {
   "cell_type": "code",
   "execution_count": null,
   "metadata": {},
   "outputs": [],
   "source": []
  },
  {
   "cell_type": "code",
   "execution_count": null,
   "metadata": {},
   "outputs": [],
   "source": []
  }
 ],
 "metadata": {
  "kernelspec": {
   "display_name": "Python 3",
   "language": "python",
   "name": "python3"
  },
  "language_info": {
   "codemirror_mode": {
    "name": "ipython",
    "version": 3
   },
   "file_extension": ".py",
   "mimetype": "text/x-python",
   "name": "python",
   "nbconvert_exporter": "python",
   "pygments_lexer": "ipython3",
   "version": "3.7.4"
  }
 },
 "nbformat": 4,
 "nbformat_minor": 2
}
